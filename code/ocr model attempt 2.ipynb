{
 "cells": [
  {
   "cell_type": "code",
   "execution_count": 4,
   "id": "696e7f2b",
   "metadata": {},
   "outputs": [],
   "source": [
    "from tensorflow.keras.preprocessing.image import ImageDataGenerator\n",
    "from tensorflow.keras.preprocessing import *\n",
    "from tensorflow.keras.optimizers import RMSprop\n",
    "import matplotlib.pyplot as plt\n",
    "import tensorflow as tf\n",
    "import numpy as np\n",
    "import cv2\n",
    "import os"
   ]
  },
  {
   "cell_type": "code",
   "execution_count": 18,
   "id": "afcb9d55",
   "metadata": {},
   "outputs": [
    {
     "name": "stdout",
     "output_type": "stream",
     "text": [
      "[[  0   0   0]\n",
      " [  0   0   0]\n",
      " [  0   0   0]\n",
      " [  0   0   0]\n",
      " [255 255 255]\n",
      " [255 255 255]\n",
      " [255 255 255]\n",
      " [255 255 255]\n",
      " [255 255 255]\n",
      " [  0   0   0]\n",
      " [  0   0   0]\n",
      " [  0   0   0]\n",
      " [  0   0   0]\n",
      " [  0   0   0]\n",
      " [  0   0   0]]\n"
     ]
    }
   ],
   "source": [
    "img=cv2.imread(\"C:\\\\Users\\\\RNS\\\\training\\\\alif\\\\1.png\")\n",
    "print(img[50])"
   ]
  },
  {
   "cell_type": "code",
   "execution_count": 20,
   "id": "5ff256c5",
   "metadata": {},
   "outputs": [
    {
     "data": {
      "text/plain": [
       "(100, 15, 3)"
      ]
     },
     "execution_count": 20,
     "metadata": {},
     "output_type": "execute_result"
    }
   ],
   "source": [
    "cv2.imread(\"C:\\\\Users\\\\RNS\\\\training\\\\alif\\\\1.png\").shape"
   ]
  },
  {
   "cell_type": "code",
   "execution_count": 21,
   "id": "de7c64b3",
   "metadata": {},
   "outputs": [],
   "source": [
    "train=ImageDataGenerator(rescale=1/255)\n",
    "validation=ImageDataGenerator(rescale=1/255)"
   ]
  },
  {
   "cell_type": "code",
   "execution_count": 3,
   "id": "6736621f",
   "metadata": {},
   "outputs": [
    {
     "ename": "NameError",
     "evalue": "name 'train' is not defined",
     "output_type": "error",
     "traceback": [
      "\u001b[1;31m---------------------------------------------------------------------------\u001b[0m",
      "\u001b[1;31mNameError\u001b[0m                                 Traceback (most recent call last)",
      "\u001b[1;32m~\\AppData\\Local\\Temp/ipykernel_3860/3222071389.py\u001b[0m in \u001b[0;36m<module>\u001b[1;34m\u001b[0m\n\u001b[1;32m----> 1\u001b[1;33m \u001b[0mtrain_dataset\u001b[0m\u001b[1;33m=\u001b[0m\u001b[0mtrain\u001b[0m\u001b[1;33m.\u001b[0m\u001b[0mflow_from_directory\u001b[0m\u001b[1;33m(\u001b[0m\u001b[1;34m'training/'\u001b[0m\u001b[1;33m,\u001b[0m\u001b[0mtarget_size\u001b[0m\u001b[1;33m=\u001b[0m\u001b[1;33m(\u001b[0m\u001b[1;36m200\u001b[0m\u001b[1;33m,\u001b[0m\u001b[1;36m200\u001b[0m\u001b[1;33m)\u001b[0m\u001b[1;33m,\u001b[0m\u001b[0mbatch_size\u001b[0m\u001b[1;33m=\u001b[0m\u001b[1;36m2\u001b[0m\u001b[1;33m,\u001b[0m\u001b[0mclass_mode\u001b[0m\u001b[1;33m=\u001b[0m\u001b[1;34m'binary'\u001b[0m\u001b[1;33m)\u001b[0m\u001b[1;33m\u001b[0m\u001b[1;33m\u001b[0m\u001b[0m\n\u001b[0m\u001b[0;32m      2\u001b[0m \u001b[0mvalidation_dataset\u001b[0m\u001b[1;33m=\u001b[0m\u001b[0mtrain\u001b[0m\u001b[1;33m.\u001b[0m\u001b[0mflow_from_directory\u001b[0m\u001b[1;33m(\u001b[0m\u001b[1;34m'validation/'\u001b[0m\u001b[1;33m,\u001b[0m\u001b[0mtarget_size\u001b[0m\u001b[1;33m=\u001b[0m\u001b[1;33m(\u001b[0m\u001b[1;36m200\u001b[0m\u001b[1;33m,\u001b[0m\u001b[1;36m200\u001b[0m\u001b[1;33m)\u001b[0m\u001b[1;33m,\u001b[0m\u001b[0mbatch_size\u001b[0m\u001b[1;33m=\u001b[0m\u001b[1;36m2\u001b[0m\u001b[1;33m,\u001b[0m\u001b[0mclass_mode\u001b[0m\u001b[1;33m=\u001b[0m\u001b[1;34m'binary'\u001b[0m\u001b[1;33m)\u001b[0m\u001b[1;33m\u001b[0m\u001b[1;33m\u001b[0m\u001b[0m\n",
      "\u001b[1;31mNameError\u001b[0m: name 'train' is not defined"
     ]
    }
   ],
   "source": [
    "train_dataset=train.flow_from_directory('training/',target_size=(200,200),batch_size=2,class_mode='binary')\n",
    "validation_dataset=train.flow_from_directory('validation/',target_size=(200,200),batch_size=2,class_mode='binary')"
   ]
  },
  {
   "cell_type": "code",
   "execution_count": 68,
   "id": "41a57ddb",
   "metadata": {},
   "outputs": [
    {
     "data": {
      "text/plain": [
       "{'ا': 0, 'ی': 1}"
      ]
     },
     "execution_count": 68,
     "metadata": {},
     "output_type": "execute_result"
    }
   ],
   "source": [
    "train_dataset.class_indices"
   ]
  },
  {
   "cell_type": "code",
   "execution_count": 69,
   "id": "b1e23bdf",
   "metadata": {},
   "outputs": [
    {
     "data": {
      "text/plain": [
       "array([0, 0, 0, 0, 1, 1, 1, 1, 1, 1, 1, 1, 1, 1, 1, 1, 1, 1, 1, 1, 1, 1,\n",
       "       1, 1, 1, 1, 1, 1, 1])"
      ]
     },
     "execution_count": 69,
     "metadata": {},
     "output_type": "execute_result"
    }
   ],
   "source": [
    "train_dataset.classes"
   ]
  },
  {
   "cell_type": "code",
   "execution_count": 70,
   "id": "9a9b855b",
   "metadata": {},
   "outputs": [],
   "source": [
    "model=tf.keras.models.Sequential([tf.keras.layers.Conv2D(16,(3,3),activation='relu',input_shape=(200,200,3)),\n",
    "                                 tf.keras.layers.MaxPool2D(2,2),\n",
    "                                 tf.keras.layers.Conv2D(32,(3,3),activation='relu'),\n",
    "                                 tf.keras.layers.MaxPool2D(2,2),\n",
    "                                 tf.keras.layers.Conv2D(64,(3,3),activation='relu'),\n",
    "                                 tf.keras.layers.MaxPool2D(2,2),\n",
    "                                 tf.keras.layers.Flatten(),\n",
    "                                 tf.keras.layers.Dense(512,activation='relu'),\n",
    "                                 tf.keras.layers.Dense(1,activation='sigmoid')\n",
    "                                 ])\n",
    "#sigmoid for binary classification"
   ]
  },
  {
   "cell_type": "code",
   "execution_count": 71,
   "id": "5f504b9c",
   "metadata": {},
   "outputs": [],
   "source": [
    "model.compile(loss='binary_crossentropy', optimizer=RMSprop(learning_rate=0.001),metrics=['accuracy'])"
   ]
  },
  {
   "cell_type": "code",
   "execution_count": 72,
   "id": "9563139b",
   "metadata": {
    "scrolled": true
   },
   "outputs": [
    {
     "name": "stdout",
     "output_type": "stream",
     "text": [
      "Epoch 1/30\n",
      "3/3 [==============================] - 3s 712ms/step - loss: 0.2358 - accuracy: 0.8333 - val_loss: 0.7536 - val_accuracy: 0.5714\n",
      "Epoch 2/30\n",
      "3/3 [==============================] - 1s 487ms/step - loss: 1.3450e-07 - accuracy: 1.0000 - val_loss: 0.7557 - val_accuracy: 0.5714\n",
      "Epoch 3/30\n",
      "3/3 [==============================] - 1s 490ms/step - loss: 2.6051e-06 - accuracy: 1.0000 - val_loss: 0.5965 - val_accuracy: 0.7143\n",
      "Epoch 4/30\n",
      "3/3 [==============================] - 1s 512ms/step - loss: 3.3137e-07 - accuracy: 1.0000 - val_loss: 0.5899 - val_accuracy: 0.7143\n",
      "Epoch 5/30\n",
      "3/3 [==============================] - 1s 522ms/step - loss: 9.3143e-06 - accuracy: 1.0000 - val_loss: 0.2633 - val_accuracy: 0.8571\n",
      "Epoch 6/30\n",
      "3/3 [==============================] - 1s 428ms/step - loss: 2.0605e-07 - accuracy: 1.0000 - val_loss: 0.2689 - val_accuracy: 0.8571\n",
      "Epoch 7/30\n",
      "3/3 [==============================] - 1s 456ms/step - loss: 2.1390e-07 - accuracy: 1.0000 - val_loss: 0.2757 - val_accuracy: 0.8571\n",
      "Epoch 8/30\n",
      "3/3 [==============================] - 1s 433ms/step - loss: 6.2219e-08 - accuracy: 1.0000 - val_loss: 0.2766 - val_accuracy: 0.8571\n",
      "Epoch 9/30\n",
      "3/3 [==============================] - 1s 426ms/step - loss: 1.9393e-07 - accuracy: 1.0000 - val_loss: 0.2859 - val_accuracy: 0.8571\n",
      "Epoch 10/30\n",
      "3/3 [==============================] - 1s 501ms/step - loss: 1.4008e-07 - accuracy: 1.0000 - val_loss: 0.2926 - val_accuracy: 0.8571\n",
      "Epoch 11/30\n",
      "3/3 [==============================] - 1s 467ms/step - loss: 8.5842e-08 - accuracy: 1.0000 - val_loss: 0.2981 - val_accuracy: 0.8571\n",
      "Epoch 12/30\n",
      "3/3 [==============================] - 1s 495ms/step - loss: 9.3469e-08 - accuracy: 1.0000 - val_loss: 0.3025 - val_accuracy: 0.8571\n",
      "Epoch 13/30\n",
      "3/3 [==============================] - 1s 453ms/step - loss: 8.7723e-08 - accuracy: 1.0000 - val_loss: 0.3061 - val_accuracy: 0.8571\n",
      "Epoch 14/30\n",
      "3/3 [==============================] - 1s 545ms/step - loss: 9.3068e-08 - accuracy: 1.0000 - val_loss: 0.3114 - val_accuracy: 0.8571\n",
      "Epoch 15/30\n",
      "3/3 [==============================] - 1s 522ms/step - loss: 5.0186e-08 - accuracy: 1.0000 - val_loss: 0.3154 - val_accuracy: 0.8571\n",
      "Epoch 16/30\n",
      "3/3 [==============================] - 1s 495ms/step - loss: 6.9226e-08 - accuracy: 1.0000 - val_loss: 0.3171 - val_accuracy: 0.8571\n",
      "Epoch 17/30\n",
      "3/3 [==============================] - 1s 492ms/step - loss: 7.1981e-08 - accuracy: 1.0000 - val_loss: 0.3194 - val_accuracy: 0.8571\n",
      "Epoch 18/30\n",
      "3/3 [==============================] - 2s 533ms/step - loss: 6.7726e-08 - accuracy: 1.0000 - val_loss: 0.3226 - val_accuracy: 0.8571\n",
      "Epoch 19/30\n",
      "3/3 [==============================] - 1s 483ms/step - loss: 7.6256e-08 - accuracy: 1.0000 - val_loss: 0.3246 - val_accuracy: 0.8571\n",
      "Epoch 20/30\n",
      "3/3 [==============================] - 1s 472ms/step - loss: 3.8682e-08 - accuracy: 1.0000 - val_loss: 0.3260 - val_accuracy: 0.8571\n",
      "Epoch 21/30\n",
      "3/3 [==============================] - 1s 477ms/step - loss: 6.3834e-08 - accuracy: 1.0000 - val_loss: 0.3298 - val_accuracy: 0.8571\n",
      "Epoch 22/30\n",
      "3/3 [==============================] - 1s 505ms/step - loss: 5.7847e-08 - accuracy: 1.0000 - val_loss: 0.3339 - val_accuracy: 0.8571\n",
      "Epoch 23/30\n",
      "3/3 [==============================] - 1s 513ms/step - loss: 5.1843e-08 - accuracy: 1.0000 - val_loss: 0.3359 - val_accuracy: 0.8571\n",
      "Epoch 24/30\n",
      "3/3 [==============================] - 1s 508ms/step - loss: 3.9295e-08 - accuracy: 1.0000 - val_loss: 0.3396 - val_accuracy: 0.8571\n",
      "Epoch 25/30\n",
      "3/3 [==============================] - 1s 501ms/step - loss: 3.8219e-08 - accuracy: 1.0000 - val_loss: 0.3436 - val_accuracy: 0.8571\n",
      "Epoch 26/30\n",
      "3/3 [==============================] - 2s 565ms/step - loss: 3.0389e-08 - accuracy: 1.0000 - val_loss: 0.3467 - val_accuracy: 0.8571\n",
      "Epoch 27/30\n",
      "3/3 [==============================] - 2s 655ms/step - loss: 3.8923e-08 - accuracy: 1.0000 - val_loss: 0.3493 - val_accuracy: 0.8571\n",
      "Epoch 28/30\n",
      "3/3 [==============================] - 2s 556ms/step - loss: 5.4873e-08 - accuracy: 1.0000 - val_loss: 0.3493 - val_accuracy: 0.8571\n",
      "Epoch 29/30\n",
      "3/3 [==============================] - 2s 530ms/step - loss: 2.9026e-08 - accuracy: 1.0000 - val_loss: 0.3513 - val_accuracy: 0.8571\n",
      "Epoch 30/30\n",
      "3/3 [==============================] - 2s 527ms/step - loss: 2.3717e-08 - accuracy: 1.0000 - val_loss: 0.3526 - val_accuracy: 0.8571\n"
     ]
    }
   ],
   "source": [
    "model_fit=model.fit(train_dataset,steps_per_epoch=3,epochs=30,validation_data=validation_dataset)"
   ]
  },
  {
   "cell_type": "code",
   "execution_count": 79,
   "id": "8a2600a9",
   "metadata": {},
   "outputs": [
    {
     "data": {
      "image/png": "[encoded data removed]",
      "text/plain": [
       "<Figure size 432x288 with 1 Axes>"
      ]
     },
     "metadata": {
      "needs_background": "light"
     },
     "output_type": "display_data"
    },
    {
     "name": "stdout",
     "output_type": "stream",
     "text": [
      "ی\n"
     ]
    },
    {
     "data": {
      "image/png": "[encoded data removed]",
      "text/plain": [
       "<Figure size 432x288 with 1 Axes>"
      ]
     },
     "metadata": {
      "needs_background": "light"
     },
     "output_type": "display_data"
    },
    {
     "name": "stdout",
     "output_type": "stream",
     "text": [
      "ی\n"
     ]
    },
    {
     "data": {
      "image/png": "[encoded data removed]",
      "text/plain": [
       "<Figure size 432x288 with 1 Axes>"
      ]
     },
     "metadata": {
      "needs_background": "light"
     },
     "output_type": "display_data"
    },
    {
     "name": "stdout",
     "output_type": "stream",
     "text": [
      "ی\n"
     ]
    },
    {
     "data": {
      "image/png": "[encoded data removed]",
      "text/plain": [
       "<Figure size 432x288 with 1 Axes>"
      ]
     },
     "metadata": {
      "needs_background": "light"
     },
     "output_type": "display_data"
    },
    {
     "name": "stdout",
     "output_type": "stream",
     "text": [
      "ا\n"
     ]
    },
    {
     "data": {
      "image/png": "[encoded data removed]",
      "text/plain": [
       "<Figure size 432x288 with 1 Axes>"
      ]
     },
     "metadata": {
      "needs_background": "light"
     },
     "output_type": "display_data"
    },
    {
     "name": "stdout",
     "output_type": "stream",
     "text": [
      "ا\n"
     ]
    },
    {
     "data": {
      "image/png": "[encoded data removed]",
      "text/plain": [
       "<Figure size 432x288 with 1 Axes>"
      ]
     },
     "metadata": {
      "needs_background": "light"
     },
     "output_type": "display_data"
    },
    {
     "name": "stdout",
     "output_type": "stream",
     "text": [
      "ی\n"
     ]
    },
    {
     "data": {
      "image/png": "[encoded data removed]",
      "text/plain": [
       "<Figure size 432x288 with 1 Axes>"
      ]
     },
     "metadata": {
      "needs_background": "light"
     },
     "output_type": "display_data"
    },
    {
     "name": "stdout",
     "output_type": "stream",
     "text": [
      "ی\n"
     ]
    },
    {
     "data": {
      "image/png": "[encoded data removed]",
      "text/plain": [
       "<Figure size 432x288 with 1 Axes>"
      ]
     },
     "metadata": {
      "needs_background": "light"
     },
     "output_type": "display_data"
    },
    {
     "name": "stdout",
     "output_type": "stream",
     "text": [
      "ی\n"
     ]
    },
    {
     "data": {
      "image/png": "[encoded data removed]",
      "text/plain": [
       "<Figure size 432x288 with 1 Axes>"
      ]
     },
     "metadata": {
      "needs_background": "light"
     },
     "output_type": "display_data"
    },
    {
     "name": "stdout",
     "output_type": "stream",
     "text": [
      "ی\n"
     ]
    },
    {
     "data": {
      "image/png": "[encoded data removed]",
      "text/plain": [
       "<Figure size 432x288 with 1 Axes>"
      ]
     },
     "metadata": {
      "needs_background": "light"
     },
     "output_type": "display_data"
    },
    {
     "name": "stdout",
     "output_type": "stream",
     "text": [
      "ا\n"
     ]
    },
    {
     "data": {
      "image/png": "[encoded data removed]",
      "text/plain": [
       "<Figure size 432x288 with 1 Axes>"
      ]
     },
     "metadata": {
      "needs_background": "light"
     },
     "output_type": "display_data"
    },
    {
     "name": "stdout",
     "output_type": "stream",
     "text": [
      "ی\n"
     ]
    },
    {
     "data": {
      "image/png": "[encoded data removed]",
      "text/plain": [
       "<Figure size 432x288 with 1 Axes>"
      ]
     },
     "metadata": {
      "needs_background": "light"
     },
     "output_type": "display_data"
    },
    {
     "name": "stdout",
     "output_type": "stream",
     "text": [
      "*\n"
     ]
    }
   ],
   "source": [
    "test_path='testing'\n",
    "for i in os.listdir(test_path):\n",
    "    img=image.load_img(test_path+'//'+i,target_size=(200,200))\n",
    "    plt.imshow(img)\n",
    "    plt.show()\n",
    "    \n",
    "    X=image.img_to_array(img)\n",
    "    X=np.expand_dims(X,axis=0)\n",
    "    images=np.vstack([X])\n",
    "    predictions=model.predict(images) \n",
    "   # classes_x=np.argmax(predictions,axis=-1)\n",
    "#     for p in predictions:\n",
    "#         index = np.argmax(p)\n",
    "#         confidence = np.max(p)\n",
    "#         predicted_lig = CATEGORIES[index]\n",
    "#         if confidence>0.9:\n",
    "#             if predicted_lig == \"ا\":\n",
    "#                 print(\"ا\")\n",
    "#             elif predicted_lig ==\"ی\" :\n",
    "#                 print(\"ی\")\n",
    "#             else:\n",
    "#                 print(\"*\")\n",
    "    for x in predictions:\n",
    "        if x==0:\n",
    "            print(\"ا\")\n",
    "        elif x==1:\n",
    "            print(\"ی\")\n",
    "        else:\n",
    "            print(\"*\")\n",
    "    \n",
    " #   val=model.predict(images)\n",
    " #   y_prob = model.predict_classes(images) \n",
    " #   y_classes = y_prob.argmax(axis=-1)\n",
    "#    print(y_prob)\n",
    "#     if val==0:\n",
    "#         print(\"Alif\")\n",
    "#     elif val==1:\n",
    "#         print(\"yay\")\n",
    "#     else:\n",
    "#         print(\"not\")\n"
   ]
  },
  {
   "cell_type": "code",
   "execution_count": null,
   "id": "138a66c8",
   "metadata": {},
   "outputs": [],
   "source": []
  }
 ],
 "metadata": {
  "kernelspec": {
   "display_name": "Python 3 (ipykernel)",
   "language": "python",
   "name": "python3"
  },
  "language_info": {
   "codemirror_mode": {
    "name": "ipython",
    "version": 3
   },
   "file_extension": ".py",
   "mimetype": "text/x-python",
   "name": "python",
   "nbconvert_exporter": "python",
   "pygments_lexer": "ipython3",
   "version": "3.9.7"
  }
 },
 "nbformat": 4,
 "nbformat_minor": 5
}
