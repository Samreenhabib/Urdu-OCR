{
 "cells": [
  {
   "cell_type": "code",
   "execution_count": 1,
   "id": "696e7f2b",
   "metadata": {},
   "outputs": [],
   "source": [
    "from tensorflow.keras.preprocessing.image import ImageDataGenerator\n",
    "from tensorflow.keras.preprocessing import *\n",
    "from tensorflow.keras.optimizers import Adam\n",
    "from keras.utils import np_utils\n",
    "import matplotlib.pyplot as plt\n",
    "import tensorflow as tf\n",
    "import numpy as np\n",
    "import cv2\n",
    "import os"
   ]
  },
  {
   "cell_type": "code",
   "execution_count": 2,
   "id": "de7c64b3",
   "metadata": {},
   "outputs": [],
   "source": [
    "train=ImageDataGenerator(rescale=1/255)\n",
    "validation=ImageDataGenerator(rescale=1/255)"
   ]
  },
  {
   "cell_type": "code",
   "execution_count": 3,
   "id": "6736621f",
   "metadata": {},
   "outputs": [
    {
     "name": "stdout",
     "output_type": "stream",
     "text": [
      "Found 333 images belonging to 13 classes.\n",
      "Found 14 images belonging to 3 classes.\n"
     ]
    }
   ],
   "source": [
    "train_dataset=train.flow_from_directory('training/',target_size=(200,200),batch_size=2,class_mode='categorical',color_mode='grayscale')\n",
    "validation_dataset=train.flow_from_directory('validation/',target_size=(200,200),batch_size=2,class_mode='categorical',color_mode='grayscale')"
   ]
  },
  {
   "cell_type": "code",
   "execution_count": 4,
   "id": "41a57ddb",
   "metadata": {},
   "outputs": [
    {
     "data": {
      "text/plain": [
       "{'ا': 0,\n",
       " 'با': 1,\n",
       " 'بھی': 2,\n",
       " 'بہت': 3,\n",
       " 'جو': 4,\n",
       " 'محبت': 5,\n",
       " 'میں': 6,\n",
       " 'نہیں': 7,\n",
       " 'چلا': 8,\n",
       " 'ی': 9,\n",
       " 'یا': 10,\n",
       " 'ید': 11,\n",
       " 'یہ': 12}"
      ]
     },
     "execution_count": 4,
     "metadata": {},
     "output_type": "execute_result"
    }
   ],
   "source": [
    "train_dataset.class_indices\n",
    "# Y=np_utils.to_categorical(Y)"
   ]
  },
  {
   "cell_type": "code",
   "execution_count": 5,
   "id": "b1e23bdf",
   "metadata": {},
   "outputs": [
    {
     "data": {
      "text/plain": [
       "array([ 0,  0,  0,  0,  0,  0,  0,  0,  0,  1,  1,  1,  1,  1,  2,  2,  2,\n",
       "        2,  2,  2,  2,  2,  2,  2,  2,  2,  2,  2,  2,  3,  3,  3,  3,  3,\n",
       "        3,  3,  3,  3,  3,  3,  3,  3,  3,  3,  3,  3,  3,  3,  3,  3,  3,\n",
       "        3,  3,  3,  3,  4,  4,  4,  4,  4,  4,  4,  4,  4,  4,  4,  4,  4,\n",
       "        4,  4,  4,  4,  4,  4,  4,  4,  4,  4,  4,  4,  4,  4,  5,  5,  5,\n",
       "        5,  5,  5,  6,  6,  6,  6,  6,  6,  6,  6,  6,  6,  6,  6,  6,  6,\n",
       "        6,  6,  6,  6,  6,  6,  6,  6,  6,  6,  6,  6,  6,  6,  6,  6,  6,\n",
       "        6,  6,  6,  6,  6,  6,  6,  6,  6,  6,  6,  6,  6,  6,  6,  6,  6,\n",
       "        6,  6,  6,  6,  6,  6,  6,  6,  6,  6,  6,  6,  6,  6,  6,  6,  6,\n",
       "        6,  6,  6,  6,  6,  6,  6,  6,  6,  6,  6,  6,  6,  6,  6,  6,  6,\n",
       "        6,  6,  6,  6,  6,  6,  6,  7,  7,  7,  7,  7,  7,  7,  7,  7,  7,\n",
       "        7,  8,  8,  8,  8,  8,  8,  8,  8,  8,  8,  9,  9,  9,  9,  9,  9,\n",
       "        9,  9,  9,  9,  9,  9,  9,  9,  9,  9,  9,  9,  9,  9,  9,  9,  9,\n",
       "        9,  9, 10, 10, 10, 10, 10, 10, 10, 10, 10, 10, 10, 10, 10, 10, 10,\n",
       "       10, 10, 10, 10, 10, 10, 10, 10, 10, 10, 10, 10, 10, 10, 10, 10, 10,\n",
       "       10, 10, 10, 10, 10, 10, 10, 10, 10, 10, 10, 10, 10, 10, 10, 10, 10,\n",
       "       10, 10, 10, 10, 10, 10, 10, 10, 10, 10, 10, 10, 10, 10, 10, 10, 11,\n",
       "       11, 11, 11, 11, 11, 11, 11, 11, 11, 11, 11, 11, 11, 11, 11, 11, 11,\n",
       "       12, 12, 12, 12, 12, 12, 12, 12, 12, 12, 12, 12, 12, 12, 12, 12, 12,\n",
       "       12, 12, 12, 12, 12, 12, 12, 12, 12, 12])"
      ]
     },
     "execution_count": 5,
     "metadata": {},
     "output_type": "execute_result"
    }
   ],
   "source": [
    "train_dataset.classes"
   ]
  },
  {
   "cell_type": "code",
   "execution_count": 78,
   "id": "c75ab2e6",
   "metadata": {},
   "outputs": [],
   "source": [
    "model=tf.keras.models.Sequential([tf.keras.layers.Conv2D(16,(3,3),activation='relu',input_shape=(200,200,1)),\n",
    "                                 tf.keras.layers.MaxPool2D(2,2),\n",
    "                                 tf.keras.layers.Conv2D(32,(3,3),activation='relu'),\n",
    "                                 tf.keras.layers.MaxPool2D(2,2),\n",
    "                                 tf.keras.layers.Conv2D(64,(3,3),activation='relu'),\n",
    "                                 tf.keras.layers.MaxPool2D(2,2),\n",
    "                                 tf.keras.layers.Flatten(),\n",
    "                                 tf.keras.layers.Dense(512,activation='relu'),\n",
    "                                 tf.keras.layers.Dense(3,activation='softmax')\n",
    "                                 ])"
   ]
  },
  {
   "cell_type": "code",
   "execution_count": 79,
   "id": "d4138d99",
   "metadata": {},
   "outputs": [],
   "source": [
    "# compile model\n",
    "model.compile(loss='categorical_crossentropy', optimizer='Adam',metrics=['accuracy'])"
   ]
  },
  {
   "cell_type": "code",
   "execution_count": 80,
   "id": "dc842ca7",
   "metadata": {},
   "outputs": [
    {
     "name": "stdout",
     "output_type": "stream",
     "text": [
      "Epoch 1/30\n",
      "3/3 [==============================] - 2s 582ms/step - loss: 0.9536 - accuracy: 0.5000 - val_loss: 1.9504 - val_accuracy: 0.2143\n",
      "Epoch 2/30\n",
      "3/3 [==============================] - 1s 419ms/step - loss: 0.7664 - accuracy: 0.6667 - val_loss: 0.6154 - val_accuracy: 1.0000\n",
      "Epoch 3/30\n",
      "3/3 [==============================] - 1s 435ms/step - loss: 0.4471 - accuracy: 1.0000 - val_loss: 0.5929 - val_accuracy: 1.0000\n",
      "Epoch 4/30\n",
      "3/3 [==============================] - 1s 418ms/step - loss: 0.2531 - accuracy: 1.0000 - val_loss: 0.4633 - val_accuracy: 1.0000\n",
      "Epoch 5/30\n",
      "3/3 [==============================] - 1s 418ms/step - loss: 0.1502 - accuracy: 1.0000 - val_loss: 0.2751 - val_accuracy: 1.0000\n",
      "Epoch 6/30\n",
      "3/3 [==============================] - 1s 458ms/step - loss: 0.0992 - accuracy: 1.0000 - val_loss: 0.1257 - val_accuracy: 1.0000\n",
      "Epoch 7/30\n",
      "3/3 [==============================] - 1s 461ms/step - loss: 0.0319 - accuracy: 1.0000 - val_loss: 0.1042 - val_accuracy: 1.0000\n",
      "Epoch 8/30\n",
      "3/3 [==============================] - 1s 534ms/step - loss: 0.0055 - accuracy: 1.0000 - val_loss: 0.1341 - val_accuracy: 0.9286\n",
      "Epoch 9/30\n",
      "3/3 [==============================] - 1s 455ms/step - loss: 0.0026 - accuracy: 1.0000 - val_loss: 0.0871 - val_accuracy: 1.0000\n",
      "Epoch 10/30\n",
      "3/3 [==============================] - 1s 484ms/step - loss: 9.2783e-06 - accuracy: 1.0000 - val_loss: 0.0607 - val_accuracy: 1.0000\n",
      "Epoch 11/30\n",
      "3/3 [==============================] - 1s 449ms/step - loss: 2.1672e-04 - accuracy: 1.0000 - val_loss: 0.0447 - val_accuracy: 1.0000\n",
      "Epoch 12/30\n",
      "3/3 [==============================] - 1s 474ms/step - loss: 3.7507e-05 - accuracy: 1.0000 - val_loss: 0.0374 - val_accuracy: 1.0000\n",
      "Epoch 13/30\n",
      "3/3 [==============================] - 1s 510ms/step - loss: 3.7750e-07 - accuracy: 1.0000 - val_loss: 0.0336 - val_accuracy: 1.0000\n",
      "Epoch 14/30\n",
      "3/3 [==============================] - 1s 503ms/step - loss: 0.0077 - accuracy: 1.0000 - val_loss: 0.1221 - val_accuracy: 0.9286\n",
      "Epoch 15/30\n",
      "3/3 [==============================] - 1s 465ms/step - loss: 2.2470e-05 - accuracy: 1.0000 - val_loss: 1.2022 - val_accuracy: 0.7143\n",
      "Epoch 16/30\n",
      "3/3 [==============================] - 1s 463ms/step - loss: 0.0000e+00 - accuracy: 1.0000 - val_loss: 3.0424 - val_accuracy: 0.5000\n",
      "Epoch 17/30\n",
      "3/3 [==============================] - 1s 472ms/step - loss: 0.0302 - accuracy: 1.0000 - val_loss: 0.0506 - val_accuracy: 1.0000\n",
      "Epoch 18/30\n",
      "3/3 [==============================] - 1s 519ms/step - loss: 0.0000e+00 - accuracy: 1.0000 - val_loss: 0.0479 - val_accuracy: 1.0000\n",
      "Epoch 19/30\n",
      "3/3 [==============================] - 1s 546ms/step - loss: 0.0000e+00 - accuracy: 1.0000 - val_loss: 0.2691 - val_accuracy: 0.9286\n",
      "Epoch 20/30\n",
      "3/3 [==============================] - 1s 374ms/step - loss: 3.9240e-05 - accuracy: 1.0000 - val_loss: 0.5934 - val_accuracy: 0.7857\n",
      "Epoch 21/30\n",
      "3/3 [==============================] - 1s 423ms/step - loss: 5.1630e-04 - accuracy: 1.0000 - val_loss: 0.9351 - val_accuracy: 0.7143\n",
      "Epoch 22/30\n",
      "3/3 [==============================] - 1s 451ms/step - loss: 1.3903 - accuracy: 0.6667 - val_loss: 6.0221e-04 - val_accuracy: 1.0000\n",
      "Epoch 23/30\n",
      "3/3 [==============================] - 1s 436ms/step - loss: 0.0000e+00 - accuracy: 1.0000 - val_loss: 0.3714 - val_accuracy: 0.9286\n",
      "Epoch 24/30\n",
      "3/3 [==============================] - 1s 413ms/step - loss: 0.0000e+00 - accuracy: 1.0000 - val_loss: 2.3465 - val_accuracy: 0.6429\n",
      "Epoch 25/30\n",
      "3/3 [==============================] - 1s 403ms/step - loss: 0.1248 - accuracy: 0.8333 - val_loss: 0.9866 - val_accuracy: 0.9286\n",
      "Epoch 26/30\n",
      "3/3 [==============================] - 1s 402ms/step - loss: 0.0000e+00 - accuracy: 1.0000 - val_loss: 0.4392 - val_accuracy: 0.9286\n",
      "Epoch 27/30\n",
      "3/3 [==============================] - 1s 407ms/step - loss: 2.9802e-07 - accuracy: 1.0000 - val_loss: 0.1158 - val_accuracy: 0.9286\n",
      "Epoch 28/30\n",
      "3/3 [==============================] - 1s 415ms/step - loss: 8.7420e-07 - accuracy: 1.0000 - val_loss: 0.0110 - val_accuracy: 1.0000\n",
      "Epoch 29/30\n",
      "3/3 [==============================] - 1s 400ms/step - loss: 1.4504e-06 - accuracy: 1.0000 - val_loss: 0.0041 - val_accuracy: 1.0000\n",
      "Epoch 30/30\n",
      "3/3 [==============================] - 1s 405ms/step - loss: 1.3908e-06 - accuracy: 1.0000 - val_loss: 0.0051 - val_accuracy: 1.0000\n"
     ]
    }
   ],
   "source": [
    "model_fit=model.fit(train_dataset,steps_per_epoch=3,epochs=30,validation_data=validation_dataset)"
   ]
  },
  {
   "cell_type": "code",
   "execution_count": 112,
   "id": "e8a4fb41",
   "metadata": {},
   "outputs": [],
   "source": [
    "import codecs"
   ]
  },
  {
   "cell_type": "code",
   "execution_count": 120,
   "id": "8a2600a9",
   "metadata": {},
   "outputs": [
    {
     "name": "stdout",
     "output_type": "stream",
     "text": [
      "['ا', 'ی', 'ا', 'ا', 'با', 'ا', 'ی', 'ی', 'ی', 'ی', 'ا', 'با', 'با', 'با', 'با', 'ا', 'ی', 'ا', 'با', 'با', 'با']\n"
     ]
    }
   ],
   "source": [
    "CATEGORIES=[\"ا\",\"با\",\"ی\"]\n",
    "test_path='testing'\n",
    "third_para = mydoc.add_paragraph(\"\")\n",
    "lines=[]\n",
    "for i in os.listdir(test_path):\n",
    "    img=image.load_img(test_path+'//'+i,target_size=(200,200,1),color_mode=\"grayscale\")\n",
    "#     plt.imshow(img)\n",
    "#     plt.show()\n",
    "    \n",
    "    X=image.img_to_array(img)\n",
    "    X=np.expand_dims(X,axis=0)\n",
    "    images=np.vstack([X])\n",
    "    predictions=model.predict(images) \n",
    "    \n",
    "    filename = \"OCRText1.txt\"\n",
    "    file = codecs.open(filename, \"a+\", \"utf8\")\n",
    "    \n",
    "    for p in predictions:\n",
    "        classes_x=CATEGORIES[np.argmax(p)]\n",
    "        lines.append(classes_x)\n",
    "\n",
    "print(lines)\n",
    "\n",
    "#     for l in lines:\n",
    "#         file.write(l)\n",
    "# file.close()\n",
    "    #index = np.argmax(p)\n",
    "#         confidence = np.max(p)\n",
    "#         predicted_lig = CATEGORIES[index]\n",
    "#         if confidence>0.9:\n",
    "#             if predicted_lig == \"ا\":\n",
    "#                 print(\"ا\")\n",
    "#             elif predicted_lig ==\"ی\" :\n",
    "#                 print(\"ی\")\n",
    "#             else:\n",
    "#                 print(\"*\")\n",
    "#     for x in predictions:\n",
    "#         if x==0:\n",
    "#             print(\"ا\")\n",
    "#         elif x==1:\n",
    "#             print(\"ی\")\n",
    "#         else:\n",
    "#             print(\"*\")\n",
    "    \n",
    " #   val=model.predict(images)\n",
    " #   y_prob = model.predict_classes(images) \n",
    " #   y_classes = y_prob.argmax(axis=-1)\n",
    "#    print(y_prob)\n",
    "#     if val==0:\n",
    "#         print(\"Alif\")\n",
    "#     elif val==1:\n",
    "#         print(\"yay\")\n",
    "#     else:\n",
    "#         print(\"not\")\n",
    "#print(classes_x)"
   ]
  },
  {
   "cell_type": "code",
   "execution_count": null,
   "id": "138a66c8",
   "metadata": {},
   "outputs": [],
   "source": []
  }
 ],
 "metadata": {
  "kernelspec": {
   "display_name": "Python 3 (ipykernel)",
   "language": "python",
   "name": "python3"
  },
  "language_info": {
   "codemirror_mode": {
    "name": "ipython",
    "version": 3
   },
   "file_extension": ".py",
   "mimetype": "text/x-python",
   "name": "python",
   "nbconvert_exporter": "python",
   "pygments_lexer": "ipython3",
   "version": "3.9.7"
  }
 },
 "nbformat": 4,
 "nbformat_minor": 5
}
