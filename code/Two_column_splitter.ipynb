{
 "cells": [
  {
   "cell_type": "code",
   "execution_count": 1,
   "metadata": {},
   "outputs": [
    {
     "name": "stdout",
     "output_type": "stream",
     "text": [
      "Images Left 175/87.Done with 176 images!\n"
     ]
    }
   ],
   "source": [
    "import cv2\n",
    "import os\n",
    "import matplotlib.pyplot as plt\n",
    "import time\n",
    "import sys\n",
    "\n",
    "IMDIR='Thresholded/makazonga'\n",
    "OUTDIR='makazonga_pg'\n",
    "\n",
    "counter=0\n",
    "\n",
    "\n",
    "for image in os.listdir(IMDIR):\n",
    "    img = cv2.imread(os.path.join(IMDIR,image))\n",
    "    _,img=cv2.threshold(img,200,255,cv2.THRESH_BINARY)\n",
    "    height,width=img.shape[:2]\n",
    "    start_row,start_col=0,int(width/2)\n",
    "    end_row,end_col=int(height),int(width)\n",
    "    cropped=img[start_row:end_row,start_col:end_col]\n",
    "    cv2.imwrite(os.path.join(OUTDIR,\"{}.png\".format(str(counter))),cropped)\n",
    "    counter = counter + 1\n",
    "    start_rows,start_cols=0,0\n",
    "    end_rows,end_cols=int(height),int(width/2)\n",
    "    croppeds=img[start_rows:end_rows,start_cols:end_cols]\n",
    "    # Writing the result.\n",
    "    cv2.imwrite(os.path.join(OUTDIR,\"{}.png\".format(str(counter))),croppeds)\n",
    "\n",
    "    # Printing the result so far.\n",
    "    sys.stdout.write(\"\\rImages Left {}/{}.\".format(counter, len(os.listdir(IMDIR))-1))\n",
    "    sys.stdout.flush()\n",
    "    \n",
    "    # Incrementing the counter\n",
    "    counter = counter + 1\n",
    "print(\"Done with {} images!\".format(counter))"
   ]
  },
  {
   "cell_type": "code",
   "execution_count": null,
   "metadata": {},
   "outputs": [],
   "source": []
  }
 ],
 "metadata": {
  "kernelspec": {
   "display_name": "Python 2",
   "language": "python",
   "name": "python2"
  },
  "language_info": {
   "codemirror_mode": {
    "name": "ipython",
    "version": 2
   },
   "file_extension": ".py",
   "mimetype": "text/x-python",
   "name": "python",
   "nbconvert_exporter": "python",
   "pygments_lexer": "ipython2",
   "version": "2.7.16"
  }
 },
 "nbformat": 4,
 "nbformat_minor": 2
}
