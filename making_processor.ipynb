{
  "nbformat": 4,
  "nbformat_minor": 0,
  "metadata": {
    "colab": {
      "name": "making_processor.ipynb",
      "provenance": [],
      "collapsed_sections": [],
      "authorship_tag": "ABX9TyO0Ion1FGgkKT7q480ryU2r",
      "include_colab_link": true
    },
    "kernelspec": {
      "name": "python3",
      "display_name": "Python 3"
    },
    "language_info": {
      "name": "python"
    },
    "accelerator": "GPU"
  },
  "cells": [
    {
      "cell_type": "markdown",
      "metadata": {
        "id": "view-in-github",
        "colab_type": "text"
      },
      "source": [
        "<a href=\"https://colab.research.google.com/github/Samreenhabib/Urdu-OCR/blob/main/making_processor.ipynb\" target=\"_parent\"><img src=\"https://colab.research.google.com/assets/colab-badge.svg\" alt=\"Open In Colab\"/></a>"
      ]
    },
    {
      "cell_type": "code",
      "source": [
        "!pip install -q transformers"
      ],
      "metadata": {
        "id": "SGZhIBek_N2s"
      },
      "execution_count": null,
      "outputs": []
    },
    {
      "cell_type": "code",
      "source": [
        "# from transformers import TrOCRProcessor\n",
        "\n",
        "# processor = TrOCRProcessor.from_pretrained(\"microsoft/trocr-base-handwritten\")\n",
        "# processor.save_pretrained('./ms-processor')"
      ],
      "metadata": {
        "id": "QeZoJcmy6zwe"
      },
      "execution_count": null,
      "outputs": []
    },
    {
      "cell_type": "code",
      "execution_count": null,
      "metadata": {
        "id": "_rmekvjh-omy"
      },
      "outputs": [],
      "source": [
        "from transformers import AutoFeatureExtractor, AutoTokenizer\n",
        "from transformers import TrOCRProcessor, VisionEncoderDecoderModel\n",
        "feature_extractor = AutoFeatureExtractor.from_pretrained(\"google/vit-base-patch16-384\")\n",
        "decoder_tokenizer = AutoTokenizer.from_pretrained(\"urduhack/roberta-urdu-small\")\n",
        "processor =TrOCRProcessor(feature_extractor=feature_extractor, tokenizer=decoder_tokenizer)"
      ]
    },
    {
      "cell_type": "code",
      "source": [
        "processor.save_pretrained('./processor')"
      ],
      "metadata": {
        "id": "PYBr94va_jv0"
      },
      "execution_count": null,
      "outputs": []
    },
    {
      "cell_type": "code",
      "source": [
        "!pip install -q datasets jiwer"
      ],
      "metadata": {
        "id": "tJ2BlTX641SV"
      },
      "execution_count": null,
      "outputs": []
    },
    {
      "cell_type": "code",
      "source": [
        "import pandas as pd\n",
        "import cv2\n",
        "df = pd.read_excel('/content/test.xlsx', header=None)\n",
        "df.rename(columns={0: \"file_name\", 1: \"text\"}, inplace=True)\n",
        "df['text']"
      ],
      "metadata": {
        "colab": {
          "base_uri": "https://localhost:8080/"
        },
        "id": "KfqpUIo15AS4",
        "outputId": "f521f9a8-0aa8-46a0-b0cd-31a2c24a1a8b"
      },
      "execution_count": null,
      "outputs": [
        {
          "output_type": "execute_result",
          "data": {
            "text/plain": [
              "0                         ایک پاکستانی نوجوان کی داستان\n",
              "1                  ایک منفرد انداز میں لکھا گیا سفرنام٘\n",
              "2                                 قارئین کے لَے تحف خاص\n",
              "3                                رضوان علی گھمن (جرمنی)\n",
              "4     خدا نے اس پوری کَاءنات کو بنایا ہے- خدا کی بنا...\n",
              "5     منفرد ہے- جب آپ نظر اٹھا کر آسمان کی طرف دیکھت...\n",
              "6     عظمت کی جھلک نظر آتی ہے- سورج چاند ستاروں اور ...\n",
              "7     صرف پانچ چھ فٹ کا ہوتا ہے لیکن یِہی انسان جب م...\n",
              "8     میری یہ کہانی بھی عشق کی راہوں میں فنا ہونے وا...\n",
              "9     معصوم جسم جب ملنے پر آتے ہیں تو اس آگ میں جلنے...\n",
              "10                                        ہی کا کمال ہے\n",
              "Name: text, dtype: object"
            ]
          },
          "metadata": {},
          "execution_count": 7
        }
      ]
    },
    {
      "cell_type": "code",
      "source": [
        "from sklearn.model_selection import train_test_split\n",
        "\n",
        "train_df, test_df = train_test_split(df, test_size=0.3)\n",
        "# we reset the indices to start from zero\n",
        "train_df.reset_index(drop=True, inplace=True)\n",
        "test_df.reset_index(drop=True, inplace=True)"
      ],
      "metadata": {
        "id": "L4sMaHuQ5gTV"
      },
      "execution_count": null,
      "outputs": []
    },
    {
      "cell_type": "code",
      "source": [
        "import torch\n",
        "from torch.utils.data import Dataset\n",
        "from PIL import Image\n",
        "\n",
        "class IAMDataset(Dataset):\n",
        "    def __init__(self, root_dir, df, processor, max_target_length=128):\n",
        "        self.root_dir = root_dir\n",
        "        self.df = df\n",
        "        self.processor = processor\n",
        "        self.max_target_length = max_target_length\n",
        "\n",
        "    def __len__(self):\n",
        "        return len(self.df)\n",
        "\n",
        "    def __getitem__(self, idx):\n",
        "        # get file name + text \n",
        "        file_name = self.df['file_name'][idx]\n",
        "        text = self.df['text'][idx]\n",
        "        # prepare image (i.e. resize + normalize)\n",
        "        image = Image.open(self.root_dir + file_name).convert(\"RGB\")\n",
        "        pixel_values = self.processor(image, return_tensors=\"pt\").pixel_values\n",
        "        # add labels (input_ids) by encoding the text\n",
        "        labels = self.processor.tokenizer(text, padding=\"max_length\",max_length=self.max_target_length).input_ids\n",
        "        # important: make sure that PAD tokens are ignored by the loss function\n",
        "        labels = [label if label != self.processor.tokenizer.pad_token_id else -100 for label in labels]\n",
        "\n",
        "        encoding = {\"pixel_values\": pixel_values.squeeze(), \"labels\": torch.tensor(labels)}\n",
        "        return encoding"
      ],
      "metadata": {
        "id": "6hyna5wS5hX4"
      },
      "execution_count": null,
      "outputs": []
    },
    {
      "cell_type": "code",
      "source": [
        "from transformers import TrOCRProcessor\n",
        "\n",
        "processor = TrOCRProcessor.from_pretrained(\"./processor\")\n",
        "train_dataset = IAMDataset(root_dir='/content/image/',\n",
        "                           df=train_df,\n",
        "                           processor=processor)\n",
        "eval_dataset = IAMDataset(root_dir='/content/image/',\n",
        "                           df=test_df,\n",
        "                           processor=processor)"
      ],
      "metadata": {
        "id": "DMa6KXH15wsx"
      },
      "execution_count": null,
      "outputs": []
    },
    {
      "cell_type": "code",
      "source": [
        "print(\"Number of training examples:\", len(train_dataset))\n",
        "print(\"Number of validation examples:\", len(eval_dataset))"
      ],
      "metadata": {
        "colab": {
          "base_uri": "https://localhost:8080/"
        },
        "id": "zS0V-GTS6YkT",
        "outputId": "295fe667-b17a-498e-e49c-12df1bf6ade1"
      },
      "execution_count": null,
      "outputs": [
        {
          "output_type": "stream",
          "name": "stdout",
          "text": [
            "Number of training examples: 7\n",
            "Number of validation examples: 4\n"
          ]
        }
      ]
    },
    {
      "cell_type": "code",
      "source": [
        "encoding = train_dataset[3]\n",
        "for k,v in encoding.items():\n",
        "  print(k, v.shape)"
      ],
      "metadata": {
        "colab": {
          "base_uri": "https://localhost:8080/"
        },
        "id": "c69U-3YH6cMF",
        "outputId": "7548d140-bb31-4d81-a6a3-dd06b45d70d1"
      },
      "execution_count": null,
      "outputs": [
        {
          "output_type": "stream",
          "name": "stdout",
          "text": [
            "pixel_values torch.Size([3, 384, 384])\n",
            "labels torch.Size([128])\n"
          ]
        }
      ]
    },
    {
      "cell_type": "code",
      "source": [
        "image = Image.open(train_dataset.root_dir + train_df['file_name'][3]).convert(\"RGB\")\n",
        "image"
      ],
      "metadata": {
        "colab": {
          "base_uri": "https://localhost:8080/",
          "height": 63
        },
        "id": "tRgMIlp06dA-",
        "outputId": "dde67c5a-8005-4d4a-f794-5c21974faab0"
      },
      "execution_count": null,
      "outputs": [
        {
          "output_type": "execute_result",
          "data": {
            "image/png": "[encoded data removed]",
            "text/plain": [
              "<PIL.Image.Image image mode=RGB size=1253x49 at 0x7F2413779510>"
            ]
          },
          "metadata": {},
          "execution_count": 13
        }
      ]
    },
    {
      "cell_type": "code",
      "source": [
        "labels = encoding['labels']\n",
        "labels[labels == -100] = processor.tokenizer.pad_token_id\n",
        "label_str = processor.decode(labels, skip_special_tokens=True)\n",
        "print(label_str)"
      ],
      "metadata": {
        "colab": {
          "base_uri": "https://localhost:8080/"
        },
        "id": "viLah64h6sW1",
        "outputId": "857a2e73-8b1e-442e-f99d-4a268ffd9995"
      },
      "execution_count": null,
      "outputs": [
        {
          "output_type": "stream",
          "name": "stdout",
          "text": [
            "خدا نے اس پوری کَاءنات کو بنایا ہے- خدا کی بنایَ ہویَ اس پوری کانَات میں صرف انسان ہی وہ چیز ہے جو \n"
          ]
        }
      ]
    },
    {
      "cell_type": "code",
      "source": [
        "from transformers import VisionEncoderDecoderModel\n",
        "\n",
        "\n",
        "model = VisionEncoderDecoderModel.from_encoder_decoder_pretrained(\n",
        "    \"google/vit-base-patch16-384\", \"urduhack/roberta-urdu-small\"\n",
        ")\n",
        "# set decoder config to causal lm\n",
        "model.config.decoder.is_decoder = True\n",
        "model.config.decoder.add_cross_attention = True\n",
        "# set special tokens used for creating the decoder_input_ids from the labels\n",
        "model.config.decoder_start_token_id = processor.tokenizer.cls_token_id\n",
        "model.config.pad_token_id = processor.tokenizer.pad_token_id\n",
        "# make sure vocab size is set correctly\n",
        "model.config.vocab_size = model.config.decoder.vocab_size\n",
        "\n",
        "# set beam search parameters\n",
        "model.config.eos_token_id = processor.tokenizer.sep_token_id\n",
        "model.config.max_length = 64\n",
        "model.config.early_stopping = True\n",
        "model.config.no_repeat_ngram_size = 3\n",
        "model.config.length_penalty = 2.0\n",
        "model.config.num_beams = 4"
      ],
      "metadata": {
        "id": "vrJ3ojeJA6n9"
      },
      "execution_count": null,
      "outputs": []
    },
    {
      "cell_type": "markdown",
      "source": [
        "using steps "
      ],
      "metadata": {
        "id": "I-_bwRqJFvDH"
      }
    },
    {
      "cell_type": "code",
      "source": [
        "from transformers import Seq2SeqTrainer, Seq2SeqTrainingArguments\n",
        "\n",
        "training_args = Seq2SeqTrainingArguments(\n",
        "    predict_with_generate=True,\n",
        "    evaluation_strategy=\"steps\",\n",
        "    per_device_train_batch_size=2,\n",
        "    per_device_eval_batch_size=2,\n",
        "    fp16=True, \n",
        "    output_dir=\"./\",\n",
        "    logging_steps=2,\n",
        "    save_steps=1000,\n",
        "    eval_steps=200,\n",
        "    num_train_epochs=6,  \n",
        ")"
      ],
      "metadata": {
        "id": "_otg0vO8BOU3"
      },
      "execution_count": null,
      "outputs": []
    },
    {
      "cell_type": "markdown",
      "source": [
        "evaluating using epoch"
      ],
      "metadata": {
        "id": "Xz9lc08aF7pr"
      }
    },
    {
      "cell_type": "code",
      "source": [
        "training_args = Seq2SeqTrainingArguments(\n",
        "   evaluation_strategy = \"epoch\",\n",
        "   learning_rate=2e-4,\n",
        "   per_device_train_batch_size=2,\n",
        "   per_device_eval_batch_size=2,\n",
        "   weight_decay=0.01,\n",
        "   save_total_limit=3,\n",
        "   num_train_epochs=6,\n",
        "   output_dir=\"./\",\n",
        "   predict_with_generate=True,  \n",
        ")"
      ],
      "metadata": {
        "id": "1-AHdsYMFe__"
      },
      "execution_count": null,
      "outputs": []
    },
    {
      "cell_type": "code",
      "source": [
        "from datasets import load_metric\n",
        "cer_metric = load_metric(\"cer\")"
      ],
      "metadata": {
        "id": "-UNPv-KiBtvp"
      },
      "execution_count": null,
      "outputs": []
    },
    {
      "cell_type": "code",
      "source": [
        "def compute_metrics(pred):\n",
        "    labels_ids = pred.label_ids\n",
        "    pred_ids = pred.predictions\n",
        "\n",
        "    pred_str = processor.batch_decode(pred_ids, skip_special_tokens=True)\n",
        "    labels_ids[labels_ids == -100] = processor.tokenizer.pad_token_id\n",
        "    label_str = processor.batch_decode(labels_ids, skip_special_tokens=True)\n",
        "\n",
        "    cer = cer_metric.compute(predictions=pred_str, references=label_str)\n",
        "\n",
        "    return {\"cer\": cer}"
      ],
      "metadata": {
        "id": "vOYddNXnBxr2"
      },
      "execution_count": null,
      "outputs": []
    },
    {
      "cell_type": "code",
      "source": [
        "from transformers import default_data_collator\n",
        "\n",
        "# instantiate trainer\n",
        "trainer = Seq2SeqTrainer(\n",
        "    model=model,\n",
        "    tokenizer=processor.feature_extractor,\n",
        "    args=training_args,\n",
        "    compute_metrics=compute_metrics,\n",
        "    train_dataset=train_dataset,\n",
        "    eval_dataset=eval_dataset,\n",
        "    data_collator=default_data_collator\n",
        ")\n",
        "trainer.train()"
      ],
      "metadata": {
        "colab": {
          "base_uri": "https://localhost:8080/",
          "height": 857
        },
        "id": "8k_Ufd6HB1Px",
        "outputId": "b353a36c-4a7f-4ac5-fc74-adc684c27e9f"
      },
      "execution_count": null,
      "outputs": [
        {
          "output_type": "stream",
          "name": "stderr",
          "text": [
            "/usr/local/lib/python3.7/dist-packages/transformers/optimization.py:309: FutureWarning: This implementation of AdamW is deprecated and will be removed in a future version. Use the PyTorch implementation torch.optim.AdamW instead, or set `no_deprecation_warning=True` to disable this warning\n",
            "  FutureWarning,\n",
            "***** Running training *****\n",
            "  Num examples = 7\n",
            "  Num Epochs = 6\n",
            "  Instantaneous batch size per device = 2\n",
            "  Total train batch size (w. parallel, distributed & accumulation) = 2\n",
            "  Gradient Accumulation steps = 1\n",
            "  Total optimization steps = 24\n"
          ]
        },
        {
          "output_type": "display_data",
          "data": {
            "text/html": [
              "\n",
              "    <div>\n",
              "      \n",
              "      <progress value='24' max='24' style='width:300px; height:20px; vertical-align: middle;'></progress>\n",
              "      [24/24 00:39, Epoch 6/6]\n",
              "    </div>\n",
              "    <table border=\"1\" class=\"dataframe\">\n",
              "  <thead>\n",
              " <tr style=\"text-align: left;\">\n",
              "      <th>Epoch</th>\n",
              "      <th>Training Loss</th>\n",
              "      <th>Validation Loss</th>\n",
              "      <th>Cer</th>\n",
              "    </tr>\n",
              "  </thead>\n",
              "  <tbody>\n",
              "    <tr>\n",
              "      <td>1</td>\n",
              "      <td>No log</td>\n",
              "      <td>9.447093</td>\n",
              "      <td>2.709877</td>\n",
              "    </tr>\n",
              "    <tr>\n",
              "      <td>2</td>\n",
              "      <td>No log</td>\n",
              "      <td>7.128946</td>\n",
              "      <td>1.370370</td>\n",
              "    </tr>\n",
              "    <tr>\n",
              "      <td>3</td>\n",
              "      <td>No log</td>\n",
              "      <td>7.455116</td>\n",
              "      <td>1.401235</td>\n",
              "    </tr>\n",
              "    <tr>\n",
              "      <td>4</td>\n",
              "      <td>No log</td>\n",
              "      <td>7.845613</td>\n",
              "      <td>1.783951</td>\n",
              "    </tr>\n",
              "    <tr>\n",
              "      <td>5</td>\n",
              "      <td>No log</td>\n",
              "      <td>8.057783</td>\n",
              "      <td>2.043210</td>\n",
              "    </tr>\n",
              "    <tr>\n",
              "      <td>6</td>\n",
              "      <td>No log</td>\n",
              "      <td>8.179310</td>\n",
              "      <td>2.043210</td>\n",
              "    </tr>\n",
              "  </tbody>\n",
              "</table><p>"
            ],
            "text/plain": [
              "<IPython.core.display.HTML object>"
            ]
          },
          "metadata": {}
        },
        {
          "output_type": "stream",
          "name": "stderr",
          "text": [
            "***** Running Evaluation *****\n",
            "  Num examples = 4\n",
            "  Batch size = 2\n",
            "***** Running Evaluation *****\n",
            "  Num examples = 4\n",
            "  Batch size = 2\n",
            "***** Running Evaluation *****\n",
            "  Num examples = 4\n",
            "  Batch size = 2\n",
            "***** Running Evaluation *****\n",
            "  Num examples = 4\n",
            "  Batch size = 2\n",
            "***** Running Evaluation *****\n",
            "  Num examples = 4\n",
            "  Batch size = 2\n",
            "***** Running Evaluation *****\n",
            "  Num examples = 4\n",
            "  Batch size = 2\n",
            "\n",
            "\n",
            "Training completed. Do not forget to share your model on huggingface.co/models =)\n",
            "\n",
            "\n"
          ]
        },
        {
          "output_type": "execute_result",
          "data": {
            "text/plain": [
              "TrainOutput(global_step=24, training_loss=0.9400688012441, metrics={'train_runtime': 40.4242, 'train_samples_per_second': 1.039, 'train_steps_per_second': 0.594, 'total_flos': 2.2378738933039104e+16, 'train_loss': 0.9400688012441, 'epoch': 6.0})"
            ]
          },
          "metadata": {},
          "execution_count": 43
        }
      ]
    },
    {
      "cell_type": "code",
      "source": [
        "trainer.save_model('./trainer')"
      ],
      "metadata": {
        "colab": {
          "base_uri": "https://localhost:8080/"
        },
        "id": "D3J3XGY6GfkD",
        "outputId": "222ddded-d50a-4665-a17d-e368098cd42e"
      },
      "execution_count": null,
      "outputs": [
        {
          "output_type": "stream",
          "name": "stderr",
          "text": [
            "Saving model checkpoint to ./trainer\n",
            "Configuration saved in ./trainer/config.json\n",
            "Model weights saved in ./trainer/pytorch_model.bin\n",
            "Feature extractor saved in ./trainer/preprocessor_config.json\n"
          ]
        }
      ]
    },
    {
      "cell_type": "code",
      "source": [
        "model = VisionEncoderDecoderModel.from_pretrained(\"./trainer\")"
      ],
      "metadata": {
        "id": "Jzfohl8wG2J2"
      },
      "execution_count": null,
      "outputs": []
    },
    {
      "cell_type": "code",
      "source": [
        "image = Image.open('/content/6.png').convert(\"RGB\")"
      ],
      "metadata": {
        "id": "okXisArpHLzQ"
      },
      "execution_count": null,
      "outputs": []
    },
    {
      "cell_type": "code",
      "source": [
        "image"
      ],
      "metadata": {
        "colab": {
          "base_uri": "https://localhost:8080/",
          "height": 106
        },
        "id": "VQnwWb5LPngA",
        "outputId": "ad2f69b3-90e2-4e4b-c1ac-69bffb78fc09"
      },
      "execution_count": null,
      "outputs": [
        {
          "output_type": "execute_result",
          "data": {
            "image/png": "[encoded data removed]",
            "text/plain": [
              "<PIL.Image.Image image mode=RGB size=1253x94 at 0x7F23A389D210>"
            ]
          },
          "metadata": {},
          "execution_count": 47
        }
      ]
    },
    {
      "cell_type": "code",
      "source": [
        "pixel_values = processor.feature_extractor(image, return_tensors=\"pt\").pixel_values \n",
        "print(pixel_values.shape)"
      ],
      "metadata": {
        "colab": {
          "base_uri": "https://localhost:8080/"
        },
        "id": "A5MR7dxhHR7W",
        "outputId": "7f68d1ae-71e9-425f-cac1-a427faaba681"
      },
      "execution_count": null,
      "outputs": [
        {
          "output_type": "stream",
          "name": "stdout",
          "text": [
            "torch.Size([1, 3, 384, 384])\n"
          ]
        }
      ]
    },
    {
      "cell_type": "code",
      "source": [
        "generated_ids = model.generate(pixel_values)\n",
        "generated_text = processor.batch_decode(generated_ids, skip_special_tokens=True)[0]\n",
        "print(generated_text)"
      ],
      "metadata": {
        "colab": {
          "base_uri": "https://localhost:8080/"
        },
        "id": "2e4ruhWiHp4-",
        "outputId": "d380e4cd-9e85-4285-8ae1-51a9a682acd7"
      },
      "execution_count": null,
      "outputs": [
        {
          "output_type": "stream",
          "name": "stdout",
          "text": [
            "منفرد ہے- جب آپ نظر اٹھا کر آسمان کی طرف دیکھتے ہیں تو آپ کو کاءنات کی اس لامحدود وسعتوں میں خدا کی\n"
          ]
        }
      ]
    },
    {
      "cell_type": "code",
      "source": [
        "test = Image.open('/content/8.png').convert(\"RGB\")\n",
        "testvalues = processor.feature_extractor(test, return_tensors=\"pt\").pixel_values \n",
        "print(testvalues.shape)"
      ],
      "metadata": {
        "colab": {
          "base_uri": "https://localhost:8080/"
        },
        "id": "QHTWc4xjd3_b",
        "outputId": "38f9d4a8-2f5b-4f53-8c42-c093c3cad65e"
      },
      "execution_count": null,
      "outputs": [
        {
          "output_type": "stream",
          "name": "stdout",
          "text": [
            "torch.Size([1, 3, 384, 384])\n"
          ]
        }
      ]
    },
    {
      "cell_type": "code",
      "source": [
        "testids = model.generate(testvalues)\n",
        "testtext = processor.batch_decode(testids, skip_special_tokens=True)[0]\n",
        "print(testtext)"
      ],
      "metadata": {
        "colab": {
          "base_uri": "https://localhost:8080/"
        },
        "id": "-pHS_LzceBgO",
        "outputId": "e422ed6d-cc96-49b0-9d3c-2582faf0e03e"
      },
      "execution_count": null,
      "outputs": [
        {
          "output_type": "stream",
          "name": "stdout",
          "text": [
            "منفرد ہے- جب آپ نظر اٹھا کر آسمان کی طرف دیکھتے ہیں تو آپ کو کاءنات کی اس لامحدود وسعتوں میں خدا کی\n"
          ]
        }
      ]
    }
  ]
}